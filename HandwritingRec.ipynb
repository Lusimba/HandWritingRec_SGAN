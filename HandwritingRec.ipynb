{
  "nbformat": 4,
  "nbformat_minor": 0,
  "metadata": {
    "colab": {
      "name": "HandwritingRec",
      "version": "0.3.2",
      "provenance": [],
      "collapsed_sections": [],
      "include_colab_link": true
    },
    "language_info": {
      "codemirror_mode": {
        "name": "ipython",
        "version": 3
      },
      "file_extension": ".py",
      "mimetype": "text/x-python",
      "name": "python",
      "nbconvert_exporter": "python",
      "pygments_lexer": "ipython3",
      "version": "3.6.8"
    },
    "kernelspec": {
      "name": "python3",
      "display_name": "Python 3"
    },
    "accelerator": "GPU"
  },
  "cells": [
    {
      "cell_type": "markdown",
      "metadata": {
        "id": "view-in-github",
        "colab_type": "text"
      },
      "source": [
        "<a href=\"https://colab.research.google.com/github/Lusimba/HandWritingRec_SGAN/blob/master/HandwritingRec.ipynb\" target=\"_parent\"><img src=\"https://colab.research.google.com/assets/colab-badge.svg\" alt=\"Open In Colab\"/></a>"
      ]
    },
    {
      "cell_type": "code",
      "metadata": {
        "colab_type": "code",
        "id": "KySUqkVNPHs_",
        "colab": {}
      },
      "source": [
        "from google.colab import auth\n",
        "auth.authenticate_user()\n",
        "\n",
        "from oauth2client.client import GoogleCredentials\n",
        "creds = GoogleCredentials.get_application_default()\n"
      ],
      "execution_count": 0,
      "outputs": []
    },
    {
      "cell_type": "code",
      "metadata": {
        "colab_type": "code",
        "id": "cnUrEEXRQCru",
        "outputId": "b3ebb88b-d34a-472c-e9d1-bd2d504badd5",
        "colab": {
          "base_uri": "https://localhost:8080/",
          "height": 69
        }
      },
      "source": [
        "!apt-get install -y -qq software-properties-common python-software-properties module-init-tools\n",
        "!add-apt-repository -y ppa:alessandro-strada/ppa 2>&1 > /dev/null\n",
        "!apt-get update -qq 2>&1 > /dev/null\n",
        "!apt-get -y install -qq google-drive-ocamlfuse fuse"
      ],
      "execution_count": 0,
      "outputs": [
        {
          "output_type": "stream",
          "text": [
            "E: Package 'python-software-properties' has no installation candidate\n",
            "E: Sub-process /usr/sbin/dpkg-preconfigure --apt || true received signal 2.\n",
            "E: Failure running script /usr/sbin/dpkg-preconfigure --apt || true\n"
          ],
          "name": "stdout"
        }
      ]
    },
    {
      "cell_type": "code",
      "metadata": {
        "colab_type": "code",
        "id": "Bph2Ud8dTh7k",
        "outputId": "3fd7d7a2-bcb4-461f-bfab-a3fde11ab4b2",
        "colab": {
          "base_uri": "https://localhost:8080/",
          "height": 34
        }
      },
      "source": [
        "# Load the Drive helper and mount\n",
        "from google.colab import drive\n",
        "drive.mount('/content/drive')"
      ],
      "execution_count": 10,
      "outputs": [
        {
          "output_type": "stream",
          "text": [
            "Drive already mounted at /content/drive; to attempt to forcibly remount, call drive.mount(\"/content/drive\", force_remount=True).\n"
          ],
          "name": "stdout"
        }
      ]
    },
    {
      "cell_type": "code",
      "metadata": {
        "colab_type": "code",
        "id": "xn7t10iTQpcX",
        "colab": {}
      },
      "source": [
        "import getpass\n",
        "!google-drive-ocamlfuse -headless -id={creds.client_id} -secret={creds.client_secret} < /dev/null 2>&1 | grep URL\n",
        "vcode = getpass.getpass()\n",
        "!echo {vcode} | google-drive-ocamlfuse -headless -id={creds.client_id} -secret={creds.client_secret}"
      ],
      "execution_count": 0,
      "outputs": []
    },
    {
      "cell_type": "code",
      "metadata": {
        "colab_type": "code",
        "id": "7ZSGqrcXQZRG",
        "colab": {
          "base_uri": "https://localhost:8080/",
          "height": 192
        },
        "outputId": "d2e77fc3-d9d8-4ac6-c9d4-24b62b3a4276"
      },
      "source": [
        "import os\n",
        "os.getcwd()\n",
        "os.listdir('drive/My Drive')\n",
        "\n"
      ],
      "execution_count": 12,
      "outputs": [
        {
          "output_type": "execute_result",
          "data": {
            "text/plain": [
              "['Colab Notebooks',\n",
              " 'models',\n",
              " 'Emotion-updated',\n",
              " 'ProjectsAi',\n",
              " 'LearningML',\n",
              " 'CelebGender',\n",
              " 'AustralianLotto',\n",
              " 'Recommender',\n",
              " 'ObjectClassifier',\n",
              " 'InternshipProject']"
            ]
          },
          "metadata": {
            "tags": []
          },
          "execution_count": 12
        }
      ]
    },
    {
      "cell_type": "code",
      "metadata": {
        "id": "SulzggcXtcKv",
        "colab_type": "code",
        "colab": {}
      },
      "source": [
        "#%cd /content/drive/'My Drive'/ObjectClassifier/GenImages\n",
        "#!rm *\n",
        "#!ls"
      ],
      "execution_count": 0,
      "outputs": []
    },
    {
      "cell_type": "code",
      "metadata": {
        "id": "5WMYldnclwLh",
        "colab_type": "code",
        "colab": {}
      },
      "source": [
        "from numpy import expand_dims\n",
        "from numpy import zeros\n",
        "from numpy import ones\n",
        "from numpy import asarray\n",
        "from numpy.random import randn\n",
        "from numpy.random import randint\n",
        "from keras.datasets.mnist import load_data\n",
        "from keras.optimizers import Adam\n",
        "from keras.models import Model\n",
        "from keras.layers import Input\n",
        "from keras.layers import Dense\n",
        "from keras.layers import Reshape\n",
        "from keras.layers import Flatten\n",
        "from keras.layers import Conv2D\n",
        "from keras.layers import Conv2DTranspose\n",
        "from keras.layers import LeakyReLU\n",
        "from keras.layers import Dropout\n",
        "from keras.layers import Lambda\n",
        "from keras.layers import Activation\n",
        "from matplotlib import pyplot\n",
        "from keras import backend"
      ],
      "execution_count": 0,
      "outputs": []
    },
    {
      "cell_type": "markdown",
      "metadata": {
        "id": "wFHXm5mPl0oa",
        "colab_type": "text"
      },
      "source": [
        "#Custom activation Function"
      ]
    },
    {
      "cell_type": "code",
      "metadata": {
        "id": "AYh6NiOol13h",
        "colab_type": "code",
        "colab": {}
      },
      "source": [
        "def custom_activation(output):\n",
        "\tlogexpsum = backend.sum(backend.exp(output), axis=-1, keepdims=True)\n",
        "\tresult = logexpsum / (logexpsum + 1.0)\n",
        "\treturn result"
      ],
      "execution_count": 0,
      "outputs": []
    },
    {
      "cell_type": "markdown",
      "metadata": {
        "id": "cGw5cvtGl32m",
        "colab_type": "text"
      },
      "source": [
        "#Standalone supervised and unsupervised discriminator models"
      ]
    },
    {
      "cell_type": "code",
      "metadata": {
        "id": "vjyHQMHEl55p",
        "colab_type": "code",
        "colab": {}
      },
      "source": [
        "def define_discriminator(in_shape=(28,28,1), n_classes=10):\n",
        "  # image input\n",
        "\tin_image = Input(shape=in_shape)\n",
        "\t# downsample\n",
        "\tfe = Conv2D(128, (3,3), strides=(2,2), padding='same')(in_image)\n",
        "\tfe = LeakyReLU(alpha=0.2)(fe)\n",
        "\t# downsample\n",
        "\tfe = Conv2D(128, (3,3), strides=(2,2), padding='same')(fe)\n",
        "\tfe = LeakyReLU(alpha=0.2)(fe)\n",
        "\t# downsample\n",
        "\tfe = Conv2D(128, (3,3), strides=(2,2), padding='same')(fe)\n",
        "\tfe = LeakyReLU(alpha=0.2)(fe)\n",
        "\t# flatten feature maps\n",
        "\tfe = Flatten()(fe)\n",
        "\t# dropout\n",
        "\tfe = Dropout(0.4)(fe)\n",
        "\t# output layer nodes\n",
        "\tfe = Dense(n_classes)(fe)\n",
        "\t# supervised output\n",
        "\tc_out_layer = Activation('softmax')(fe)\n",
        "\t# define and compile supervised discriminator model\n",
        "\tc_model = Model(in_image, c_out_layer)\n",
        "\tc_model.compile(loss='sparse_categorical_crossentropy', optimizer=Adam(lr=0.0002, beta_1=0.5), metrics=['accuracy'])\n",
        "\t# unsupervised output\n",
        "\td_out_layer = Lambda(custom_activation)(fe)\n",
        "\t# define and compile unsupervised discriminator model\n",
        "\td_model = Model(in_image, d_out_layer)\n",
        "\td_model.compile(loss='binary_crossentropy', optimizer=Adam(lr=0.0002, beta_1=0.5))\n",
        "\treturn d_model, c_model"
      ],
      "execution_count": 0,
      "outputs": []
    },
    {
      "cell_type": "markdown",
      "metadata": {
        "id": "pe7bx7fdl-1O",
        "colab_type": "text"
      },
      "source": [
        "#define the standalone generator models"
      ]
    },
    {
      "cell_type": "code",
      "metadata": {
        "id": "yMlFrrVtmBDB",
        "colab_type": "code",
        "colab": {}
      },
      "source": [
        "def define_generator(latent_dim):\n",
        "\t# image generator input\n",
        "\tin_lat = Input(shape=(latent_dim,))\n",
        "\t# foundation for 7x7 image\n",
        "\tn_nodes = 128 * 7 * 7\n",
        "\tgen = Dense(n_nodes)(in_lat)\n",
        "\tgen = LeakyReLU(alpha=0.2)(gen)\n",
        "\tgen = Reshape((7, 7, 128))(gen)\n",
        "\t# upsample to 14x14\n",
        "\tgen = Conv2DTranspose(128, (4,4), strides=(2,2), padding='same')(gen)\n",
        "\tgen = LeakyReLU(alpha=0.2)(gen)\n",
        "\t# upsample to 28x28\n",
        "\tgen = Conv2DTranspose(128, (4,4), strides=(2,2), padding='same')(gen)\n",
        "\tgen = LeakyReLU(alpha=0.2)(gen)\n",
        "\t# output\n",
        "\tout_layer = Conv2D(1, (7,7), activation='tanh', padding='same')(gen)\n",
        "\t# define model\n",
        "\tmodel = Model(in_lat, out_layer)\n",
        "\treturn model"
      ],
      "execution_count": 0,
      "outputs": []
    },
    {
      "cell_type": "markdown",
      "metadata": {
        "id": "p-qO0C_BmGVG",
        "colab_type": "text"
      },
      "source": [
        "# define the combined generator and discriminate model, for updating the generator\n"
      ]
    },
    {
      "cell_type": "code",
      "metadata": {
        "id": "-jkc2jfimIk4",
        "colab_type": "code",
        "colab": {}
      },
      "source": [
        "def define_gan(g_model, d_model):\n",
        "\t# make weights in the discriminator not trainable\n",
        "\td_model.trainable = False\n",
        "\t# connect image output from generator as input to discriminator\n",
        "\tgan_output = d_model(g_model.output)\n",
        "\t# define gan model as taking noise and outputting a classification\n",
        "\tmodel = Model(g_model.input, gan_output)\n",
        "\t# compile model\n",
        "\topt = Adam(lr=0.0002, beta_1=0.5)\n",
        "\tmodel.compile(loss='binary_crossentropy', optimizer=opt)\n",
        "\treturn model\n"
      ],
      "execution_count": 0,
      "outputs": []
    },
    {
      "cell_type": "markdown",
      "metadata": {
        "id": "Eb2v7BJ2mL78",
        "colab_type": "text"
      },
      "source": [
        "#Load the images"
      ]
    },
    {
      "cell_type": "code",
      "metadata": {
        "id": "cafZ5YpalzHy",
        "colab_type": "code",
        "colab": {}
      },
      "source": [
        "def load_real_samples():\n",
        "\t# load dataset\n",
        "\t(trainX, trainy), (_, _) = load_data()\n",
        "\t# expand to 3d, e.g. add channels\n",
        "\tX = expand_dims(trainX, axis=-1)\n",
        "\t# convert from ints to floats\n",
        "\tX = X.astype('float32')\n",
        "\t# scale from [0,255] to [-1,1]\n",
        "\tX = (X - 127.5) / 127.5\n",
        "\tprint(X.shape, trainy.shape)\n",
        "\treturn [X, trainy]"
      ],
      "execution_count": 0,
      "outputs": []
    },
    {
      "cell_type": "markdown",
      "metadata": {
        "id": "5lBr-NcHmQ0U",
        "colab_type": "text"
      },
      "source": [
        "#Select a supervised subset of the dataset with balanced classes"
      ]
    },
    {
      "cell_type": "code",
      "metadata": {
        "id": "8MW-Q7I_mW65",
        "colab_type": "code",
        "colab": {}
      },
      "source": [
        "def select_supervised_samples(dataset, n_samples=100, n_classes=10):\n",
        "\tX, y = dataset\n",
        "\tX_list, y_list = list(), list()\n",
        "\tn_per_class = int(n_samples / n_classes)\n",
        "\tfor i in range(n_classes):\n",
        "\t\t# get all images for this class\n",
        "\t\tX_with_class = X[y == i]\n",
        "\t\t# choose random instances\n",
        "\t\tix = randint(0, len(X_with_class), n_per_class)\n",
        "\t\t# add to list\n",
        "\t\t[X_list.append(X_with_class[j]) for j in ix]\n",
        "\t\t[y_list.append(i) for j in ix]\n",
        "\treturn asarray(X_list), asarray(y_list)"
      ],
      "execution_count": 0,
      "outputs": []
    },
    {
      "cell_type": "markdown",
      "metadata": {
        "id": "F3hGROX-mX2h",
        "colab_type": "text"
      },
      "source": [
        "# select real samples\n"
      ]
    },
    {
      "cell_type": "code",
      "metadata": {
        "id": "ctyrGE2kmZmS",
        "colab_type": "code",
        "colab": {}
      },
      "source": [
        "def generate_real_samples(dataset, n_samples):\n",
        "\t# split into images and labels\n",
        "\timages, labels = dataset\n",
        "\t# choose random instances\n",
        "\tix = randint(0, images.shape[0], n_samples)\n",
        "\t# select images and labels\n",
        "\tX, labels = images[ix], labels[ix]\n",
        "\t# generate class labels\n",
        "\ty = ones((n_samples, 1))\n",
        "\treturn [X, labels], y"
      ],
      "execution_count": 0,
      "outputs": []
    },
    {
      "cell_type": "markdown",
      "metadata": {
        "id": "APRb9apHmbk_",
        "colab_type": "text"
      },
      "source": [
        "# generate points in latent space as input for the generator\n"
      ]
    },
    {
      "cell_type": "code",
      "metadata": {
        "id": "DlgBtvEGmcwV",
        "colab_type": "code",
        "colab": {}
      },
      "source": [
        "def generate_latent_points(latent_dim, n_samples):\n",
        "\t# generate points in the latent space\n",
        "\tz_input = randn(latent_dim * n_samples)\n",
        "\t# reshape into a batch of inputs for the network\n",
        "\tz_input = z_input.reshape(n_samples, latent_dim)\n",
        "\treturn z_input"
      ],
      "execution_count": 0,
      "outputs": []
    },
    {
      "cell_type": "markdown",
      "metadata": {
        "id": "Fiv6rG2qmgtS",
        "colab_type": "text"
      },
      "source": [
        "# use the generator to generate n fake examples, with class labels\n"
      ]
    },
    {
      "cell_type": "code",
      "metadata": {
        "id": "T275TxyjmeJ_",
        "colab_type": "code",
        "colab": {}
      },
      "source": [
        "def generate_fake_samples(generator, latent_dim, n_samples):\n",
        "\t# generate points in latent space\n",
        "\tz_input = generate_latent_points(latent_dim, n_samples)\n",
        "\t# predict outputs\n",
        "\timages = generator.predict(z_input)\n",
        "\t# create class labels\n",
        "\ty = zeros((n_samples, 1))\n",
        "\treturn images, y"
      ],
      "execution_count": 0,
      "outputs": []
    },
    {
      "cell_type": "markdown",
      "metadata": {
        "id": "iM2Ff66omkMY",
        "colab_type": "text"
      },
      "source": [
        "# generate samples and save as a plot and save the model\n"
      ]
    },
    {
      "cell_type": "code",
      "metadata": {
        "id": "lJyZIuT2EnZt",
        "colab_type": "code",
        "colab": {
          "base_uri": "https://localhost:8080/",
          "height": 52
        },
        "outputId": "ccc8bc9a-7bfe-4582-eaa5-3728bbbf5874"
      },
      "source": [
        "%cd /content/drive/My Drive/ObjectClassifier/GenImages\n",
        "!pwd"
      ],
      "execution_count": 151,
      "outputs": [
        {
          "output_type": "stream",
          "text": [
            "/content/drive/My Drive/ObjectClassifier/GenImages\n",
            "/content/drive/My Drive/ObjectClassifier/GenImages\n"
          ],
          "name": "stdout"
        }
      ]
    },
    {
      "cell_type": "code",
      "metadata": {
        "id": "g7cGu8aCmlH3",
        "colab_type": "code",
        "colab": {}
      },
      "source": [
        "def summarize_performance(step, g_model, c_model, latent_dim, dataset, n_samples=100):\n",
        "\t# prepare fake examples\n",
        "\tX, _ = generate_fake_samples(g_model, latent_dim, n_samples)\n",
        "\t# scale from [-1,1] to [0,1]\n",
        "\tX = (X + 1) / 2.0\n",
        "\t# plot images\n",
        "\tfor i in range(100):\n",
        "\t\t# define subplot\n",
        "\t\tpyplot.subplot(10, 10, 1 + i)\n",
        "\t\t# turn off axis\n",
        "\t\tpyplot.axis('off')\n",
        "\t\t# plot raw pixel data\n",
        "\t\tpyplot.imshow(X[i, :, :, 0], cmap='gray_r')\n",
        "\t# save plot to file\n",
        "\tfilename1 = 'generated_plot_%04d.png' % (step+1)\n",
        "\tpyplot.savefig(filename1)\n",
        "\tpyplot.close()\n",
        "\t# evaluate the classifier model\n",
        "\tX, y = dataset\n",
        "\t_, acc = c_model.evaluate(X, y, verbose=0)\n",
        "\tprint('Classifier Accuracy: %.3f%%' % (acc * 100))\n",
        "\t# save the generator model\n",
        "\tfilename2 = 'g_model_%04d.h5' % (step+1)\n",
        "\tg_model.save(filename2)\n",
        "\t# save the classifier model\n",
        "\tfilename3 = 'c_model_%04d.h5' % (step+1)\n",
        "\tc_model.save(filename3)\n",
        "\tprint('>Saved: %s, %s, and %s' % (filename1, filename2, filename3))"
      ],
      "execution_count": 0,
      "outputs": []
    },
    {
      "cell_type": "markdown",
      "metadata": {
        "id": "khjjypJImoiM",
        "colab_type": "text"
      },
      "source": [
        "# train the generator and discriminator\n"
      ]
    },
    {
      "cell_type": "code",
      "metadata": {
        "id": "B7LmMZ73mqA-",
        "colab_type": "code",
        "colab": {}
      },
      "source": [
        "def train(g_model, d_model, c_model, gan_model, dataset, latent_dim, n_epochs=20, n_batch=100):\n",
        "\t# select supervised dataset\n",
        "\tX_sup, y_sup = select_supervised_samples(dataset)\n",
        "\tprint(X_sup.shape, y_sup.shape)\n",
        "\t# calculate the number of batches per training epoch\n",
        "\tbat_per_epo = int(dataset[0].shape[0] / n_batch)\n",
        "\t# calculate the number of training iterations\n",
        "\tn_steps = bat_per_epo * n_epochs\n",
        "\t# calculate the size of half a batch of samples\n",
        "\thalf_batch = int(n_batch / 2)\n",
        "\tprint('n_epochs=%d, n_batch=%d, 1/2=%d, b/e=%d, steps=%d' % (n_epochs, n_batch, half_batch, bat_per_epo, n_steps))\n",
        "\t# manually enumerate epochs\n",
        "\tfor i in range(n_steps):\n",
        "\t\t# update supervised discriminator (c)\n",
        "\t\t[Xsup_real, ysup_real], _ = generate_real_samples([X_sup, y_sup], half_batch)\n",
        "\t\tc_loss, c_acc = c_model.train_on_batch(Xsup_real, ysup_real)\n",
        "\t\t# update unsupervised discriminator (d)\n",
        "\t\t[X_real, _], y_real = generate_real_samples(dataset, half_batch)\n",
        "\t\td_loss1 = d_model.train_on_batch(X_real, y_real)\n",
        "\t\tX_fake, y_fake = generate_fake_samples(g_model, latent_dim, half_batch)\n",
        "\t\td_loss2 = d_model.train_on_batch(X_fake, y_fake)\n",
        "\t\t# update generator (g)\n",
        "\t\tX_gan, y_gan = generate_latent_points(latent_dim, n_batch), ones((n_batch, 1))\n",
        "\t\tg_loss = gan_model.train_on_batch(X_gan, y_gan)\n",
        "\t\t# summarize loss on this batch\n",
        "\t\tprint('>%d, c[%.3f,%.0f], d[%.3f,%.3f], g[%.3f]' % (i+1, c_loss, c_acc*100, d_loss1, d_loss2, g_loss))\n",
        "\t\t# evaluate the model performance every so often\n",
        "\t\tif (i+1) % (bat_per_epo * 1) == 0:\n",
        "\t\t\tsummarize_performance(i, g_model, c_model, latent_dim, dataset)\n",
        " "
      ],
      "execution_count": 0,
      "outputs": []
    },
    {
      "cell_type": "markdown",
      "metadata": {
        "id": "WqK9Gv-jmw1i",
        "colab_type": "text"
      },
      "source": [
        "# size of the latent space\n"
      ]
    },
    {
      "cell_type": "code",
      "metadata": {
        "id": "z8GVYG5QmxeZ",
        "colab_type": "code",
        "colab": {}
      },
      "source": [
        "latent_dim = 100\n"
      ],
      "execution_count": 0,
      "outputs": []
    },
    {
      "cell_type": "markdown",
      "metadata": {
        "id": "FEKRyg2BmzJ0",
        "colab_type": "text"
      },
      "source": [
        "# create the discriminator models\n"
      ]
    },
    {
      "cell_type": "code",
      "metadata": {
        "id": "jFog750zm0QB",
        "colab_type": "code",
        "colab": {}
      },
      "source": [
        "d_model, c_model = define_discriminator()\n"
      ],
      "execution_count": 0,
      "outputs": []
    },
    {
      "cell_type": "markdown",
      "metadata": {
        "id": "ObYeW-bYm1bl",
        "colab_type": "text"
      },
      "source": [
        "# create the generator\n"
      ]
    },
    {
      "cell_type": "code",
      "metadata": {
        "id": "nmmNao4Pm2bF",
        "colab_type": "code",
        "colab": {}
      },
      "source": [
        "g_model = define_generator(latent_dim)\n"
      ],
      "execution_count": 0,
      "outputs": []
    },
    {
      "cell_type": "markdown",
      "metadata": {
        "id": "0qNPLDHpm3gV",
        "colab_type": "text"
      },
      "source": [
        "# create the gan\n"
      ]
    },
    {
      "cell_type": "code",
      "metadata": {
        "id": "EBDwbIDvm4j2",
        "colab_type": "code",
        "colab": {}
      },
      "source": [
        "gan_model = define_gan(g_model, d_model)\n"
      ],
      "execution_count": 0,
      "outputs": []
    },
    {
      "cell_type": "markdown",
      "metadata": {
        "id": "y0awIep1m6Km",
        "colab_type": "text"
      },
      "source": [
        "# load image data\n"
      ]
    },
    {
      "cell_type": "code",
      "metadata": {
        "id": "F6b-TD0Om7ur",
        "colab_type": "code",
        "colab": {
          "base_uri": "https://localhost:8080/",
          "height": 34
        },
        "outputId": "421d446e-7eff-4d58-9e0b-5c04412d4803"
      },
      "source": [
        "dataset = load_real_samples()\n"
      ],
      "execution_count": 158,
      "outputs": [
        {
          "output_type": "stream",
          "text": [
            "(60000, 28, 28, 1) (60000,)\n"
          ],
          "name": "stdout"
        }
      ]
    },
    {
      "cell_type": "markdown",
      "metadata": {
        "id": "c1cAKzylxGTb",
        "colab_type": "text"
      },
      "source": [
        "#GPU Specs"
      ]
    },
    {
      "cell_type": "markdown",
      "metadata": {
        "id": "Ju4uewwLm9DI",
        "colab_type": "text"
      },
      "source": [
        "# train model\n"
      ]
    },
    {
      "cell_type": "code",
      "metadata": {
        "id": "SXEHpyPVm-Xx",
        "colab_type": "code",
        "colab": {
          "base_uri": "https://localhost:8080/",
          "height": 1000
        },
        "outputId": "72d21e88-c860-4a3d-87d7-57b3302ae397"
      },
      "source": [
        "train(g_model, d_model, c_model, gan_model, dataset, latent_dim)"
      ],
      "execution_count": 159,
      "outputs": [
        {
          "output_type": "stream",
          "text": [
            "(100, 28, 28, 1) (100,)\n",
            "n_epochs=20, n_batch=100, 1/2=50, b/e=600, steps=12000\n"
          ],
          "name": "stdout"
        },
        {
          "output_type": "stream",
          "text": [
            "/usr/local/lib/python3.6/dist-packages/keras/engine/training.py:490: UserWarning: Discrepancy between trainable weights and collected trainable weights, did you set `model.trainable` without calling `model.compile` after ?\n",
            "  'Discrepancy between trainable weights and collected trainable'\n",
            "/usr/local/lib/python3.6/dist-packages/keras/engine/training.py:490: UserWarning: Discrepancy between trainable weights and collected trainable weights, did you set `model.trainable` without calling `model.compile` after ?\n",
            "  'Discrepancy between trainable weights and collected trainable'\n"
          ],
          "name": "stderr"
        },
        {
          "output_type": "stream",
          "text": [
            ">1, c[2.290,10], d[0.096,2.398], g[0.095]\n",
            ">2, c[2.293,10], d[0.092,2.398], g[0.095]\n",
            ">3, c[2.309,14], d[0.088,2.398], g[0.095]\n"
          ],
          "name": "stdout"
        },
        {
          "output_type": "stream",
          "text": [
            "/usr/local/lib/python3.6/dist-packages/keras/engine/training.py:490: UserWarning: Discrepancy between trainable weights and collected trainable weights, did you set `model.trainable` without calling `model.compile` after ?\n",
            "  'Discrepancy between trainable weights and collected trainable'\n"
          ],
          "name": "stderr"
        },
        {
          "output_type": "stream",
          "text": [
            ">4, c[2.267,22], d[0.085,2.399], g[0.095]\n",
            ">5, c[2.257,18], d[0.082,2.400], g[0.095]\n",
            ">6, c[2.261,26], d[0.079,2.400], g[0.096]\n",
            ">7, c[2.243,24], d[0.078,2.395], g[0.097]\n",
            ">8, c[2.255,18], d[0.078,2.384], g[0.098]\n",
            ">9, c[2.210,32], d[0.080,2.372], g[0.099]\n",
            ">10, c[2.186,26], d[0.081,2.367], g[0.100]\n",
            ">11, c[2.157,32], d[0.076,2.368], g[0.099]\n",
            ">12, c[2.117,32], d[0.070,2.371], g[0.100]\n",
            ">13, c[2.201,22], d[0.062,2.368], g[0.101]\n",
            ">14, c[2.048,34], d[0.050,2.345], g[0.104]\n",
            ">15, c[2.073,36], d[0.040,2.314], g[0.108]\n",
            ">16, c[2.043,32], d[0.031,2.289], g[0.111]\n",
            ">17, c[1.979,42], d[0.024,2.268], g[0.114]\n",
            ">18, c[1.901,46], d[0.017,2.240], g[0.121]\n",
            ">19, c[2.042,16], d[0.016,2.172], g[0.134]\n",
            ">20, c[1.996,26], d[0.021,2.053], g[0.160]\n",
            "...",
            ">595, c[0.027,100], d[0.854,0.599], g[1.102]\n",
            ">596, c[0.023,100], d[0.537,0.862], g[1.492]\n",
            ">597, c[0.021,100], d[0.778,0.603], g[1.399]\n",
            ">598, c[0.028,100], d[1.041,0.921], g[1.264]\n",
            ">599, c[0.024,100], d[0.776,0.697], g[0.974]\n",
            ">600, c[0.027,100], d[0.729,0.817], g[1.114]\n",
            "Classifier Accuracy: 82.923%\n",
            ">Saved: generated_plot_0600.png, g_model_0600.h5, and c_model_0600.h5\n",
            "Classifier Accuracy: 87.865%\n",
            ">Saved: generated_plot_1200.png, g_model_1200.h5, and c_model_1200.h5\n",
            "Classifier Accuracy: 91.063%\n",
            ">Saved: generated_plot_1800.png, g_model_1800.h5, and c_model_1800.h5\n",
            "Classifier Accuracy: 92.460%\n",
            ">Saved: generated_plot_2400.png, g_model_2400.h5, and c_model_2400.h5\n",
            "Classifier Accuracy: 93.293%\n",
            ">Saved: generated_plot_3000.png, g_model_3000.h5, and c_model_3000.h5\n",
            "Classifier Accuracy: 94.048%\n",
            ">Saved: generated_plot_3600.png, g_model_3600.h5, and c_model_3600.h5\n",
            "Classifier Accuracy: 93.045%\n",
            ">Saved: generated_plot_4200.png, g_model_4200.h5, and c_model_4200.h5\n",
            "Classifier Accuracy: 93.703%\n",
            ">Saved: generated_plot_4800.png, g_model_4800.h5, and c_model_4800.h5\n",
            "Classifier Accuracy: 94.515%\n",
            ">Saved: generated_plot_5400.png, g_model_5400.h5, and c_model_5400.h5\n",
            "Classifier Accuracy: 93.688%\n",
            ">Saved: generated_plot_6000.png, g_model_6000.h5, and c_model_6000.h5\n",
            "Classifier Accuracy: 93.383%\n",
            ">Saved: generated_plot_6600.png, g_model_6600.h5, and c_model_6600.h5\n",
            "Classifier Accuracy: 94.147%\n",
            ">Saved: generated_plot_7200.png, g_model_7200.h5, and c_model_7200.h5\n",
            "Classifier Accuracy: 93.977%\n",
            ">Saved: generated_plot_7800.png, g_model_7800.h5, and c_model_7800.h5\n",
            "Classifier Accuracy: 93.722%\n",
            ">Saved: generated_plot_8400.png, g_model_8400.h5, and c_model_8400.h5\n",
            "Classifier Accuracy: 94.022%\n",
            ">Saved: generated_plot_9000.png, g_model_9000.h5, and c_model_9000.h5\n",
            "Classifier Accuracy: 93.262%\n",
            ">Saved: generated_plot_9600.png, g_model_9600.h5, and c_model_9600.h5\n",
            "Classifier Accuracy: 92.237%\n",
            ">Saved: generated_plot_10200.png, g_model_10200.h5, and c_model_10200.h5\n",
            "Classifier Accuracy: 91.128%\n",
            ">Saved: generated_plot_10800.png, g_model_10800.h5, and c_model_10800.h5\n",
            "Classifier Accuracy: 90.777%\n",
            ">Saved: generated_plot_11400.png, g_model_11400.h5, and c_model_11400.h5\n",
            ">11401, c[0.002,100], d[1.008,1.093], g[1.196]\n",
            ">11402, c[0.002,100], d[0.923,0.881], g[1.323]\n",
            ">11403, c[0.001,100], d[0.933,1.266], g[1.157]\n",
            ">11404, c[0.002,100], d[1.015,0.878], g[1.194]\n",
            ">11405, c[0.002,100], d[1.022,1.236], g[1.202]\n",
            ">11432, c[0.004,100], d[1.111,0.718], g[1.199]\n",
            "...",
            ">11464, c[0.003,100], d[0.859,0.686], g[1.347]\n",
            ">11998, c[0.004,100], d[0.975,1.393], g[1.143]\n",
            ">11999, c[0.001,100], d[0.767,1.294], g[1.543]\n",
            ">12000, c[0.002,100], d[0.881,0.870], g[1.389]\n",
            "Classifier Accuracy: 91.300%\n",
            ">Saved: generated_plot_12000.png, g_model_12000.h5, and c_model_12000.h5\n"
          ],
          "name": "stdout"
        }
      ]
    },
    {
      "cell_type": "code",
      "metadata": {
        "id": "RJtzcFOsJxYg",
        "colab_type": "code",
        "colab": {
          "base_uri": "https://localhost:8080/",
          "height": 34
        },
        "outputId": "1aaecb1c-a1f7-4fa3-8289-a35139ccfeb4"
      },
      "source": [
        "!pwd"
      ],
      "execution_count": 160,
      "outputs": [
        {
          "output_type": "stream",
          "text": [
            "/content/drive/My Drive/ObjectClassifier/GenImages\n"
          ],
          "name": "stdout"
        }
      ]
    },
    {
      "cell_type": "code",
      "metadata": {
        "id": "NpX5p8cCJQM9",
        "colab_type": "code",
        "colab": {
          "base_uri": "https://localhost:8080/",
          "height": 52
        },
        "outputId": "d500b801-89a2-43cc-8b7b-ff1f6bea838f"
      },
      "source": [
        "# example of loading the classifier model and generating images\n",
        "from numpy import expand_dims\n",
        "from keras.models import load_model\n",
        "from keras.datasets.mnist import load_data\n",
        "# load the model\n",
        "model = load_model('c_model_7200.h5')\n",
        "# load the dataset\n",
        "(trainX, trainy), (testX, testy) = load_data()\n",
        "# expand to 3d, e.g. add channels\n",
        "trainX = expand_dims(trainX, axis=-1)\n",
        "testX = expand_dims(testX, axis=-1)\n",
        "# convert from ints to floats\n",
        "trainX = trainX.astype('float32')\n",
        "testX = testX.astype('float32')\n",
        "# scale from [0,255] to [-1,1]\n",
        "trainX = (trainX - 127.5) / 127.5\n",
        "testX = (testX - 127.5) / 127.5\n",
        "# evaluate the model\n",
        "_, train_acc = model.evaluate(trainX, trainy, verbose=0)\n",
        "print('Train Accuracy: %.3f%%' % (train_acc * 100))\n",
        "_, test_acc = model.evaluate(testX, testy, verbose=0)\n",
        "print('Test Accuracy: %.3f%%' % (test_acc * 100))"
      ],
      "execution_count": 161,
      "outputs": [
        {
          "output_type": "stream",
          "text": [
            "Train Accuracy: 94.147%\n",
            "Test Accuracy: 94.420%\n"
          ],
          "name": "stdout"
        }
      ]
    },
    {
      "cell_type": "code",
      "metadata": {
        "id": "_JuQ2UEMTUP0",
        "colab_type": "code",
        "colab": {
          "base_uri": "https://localhost:8080/",
          "height": 268
        },
        "outputId": "4a12b245-cd3d-4b00-f8cc-19e7ee297a5b"
      },
      "source": [
        "import matplotlib.pyplot as plt\n",
        "plt.imshow(plt.imread('generated_plot_7200.png'))\n",
        "plt.show()"
      ],
      "execution_count": 172,
      "outputs": [
        {
          "output_type": "display_data",
          "data": {
            "image/png": "[encoded data removed]",
            "text/plain": [
              "<Figure size 432x288 with 1 Axes>"
            ]
          },
          "metadata": {
            "tags": []
          }
        }
      ]
    }
  ]
}
